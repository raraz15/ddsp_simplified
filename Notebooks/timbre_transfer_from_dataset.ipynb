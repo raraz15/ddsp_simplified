{
 "cells": [
  {
   "cell_type": "code",
   "execution_count": 1,
   "id": "b4d61ed0",
   "metadata": {
    "scrolled": true
   },
   "outputs": [
    {
     "name": "stderr",
     "output_type": "stream",
     "text": [
      "2021-10-02 10:35:22.382265: I tensorflow/stream_executor/platform/default/dso_loader.cc:49] Successfully opened dynamic library libcudart.so.11.0\n"
     ]
    }
   ],
   "source": [
    "import os\n",
    "import sys\n",
    "import yaml\n",
    "import argparse\n",
    "\n",
    "x = !pwd\n",
    "sys.path.append(os.path.dirname(x[0]))\n",
    "\n",
    "import matplotlib.pyplot as plt\n",
    "\n",
    "from feature_extraction import process_track\n",
    "from utilities import load_track, write_audio\n",
    "from train_utils import make_supervised_model\n",
    "\n",
    "from timbre_transfer import make_model_from_config\n",
    "from dataloader import load_dataset\n",
    "\n",
    "def print_plot_play(x, Fs=16000, text='', normalize=False):\n",
    "    import IPython.display as ipd\n",
    "    print('%s\\n' % (text))\n",
    "    print('Fs = %d, x.shape = %s, x.dtype = %s' % (Fs, x.shape, x.dtype))\n",
    "    plt.figure(figsize=(8, 2))\n",
    "    plt.plot(x, color='gray')\n",
    "    plt.xlim([0, x.shape[0]])\n",
    "    plt.xlabel('Time (samples)')\n",
    "    plt.ylabel('Amplitude')\n",
    "    plt.tight_layout()\n",
    "    plt.show()\n",
    "    ipd.display(ipd.Audio(data=x, rate=Fs, normalize=normalize))"
   ]
  },
  {
   "cell_type": "code",
   "execution_count": null,
   "id": "829f45c0",
   "metadata": {},
   "outputs": [],
   "source": [
    "config_path = \"/home/ubuntu/ddsp_simplified/wandb/run-20211001_081057-2nmnekfw/files/NoLatent_Reverb/model.yaml\""
   ]
  },
  {
   "cell_type": "code",
   "execution_count": null,
   "id": "79e4dd58",
   "metadata": {},
   "outputs": [],
   "source": [
    "with open(config_path, 'r') as file:\n",
    "    config = dict(yaml.load(file, Loader=yaml.FullLoader))    \n",
    "print(config['run_name'])\n",
    "model = make_model_from_config(config)"
   ]
  },
  {
   "cell_type": "code",
   "execution_count": null,
   "id": "be732d26",
   "metadata": {},
   "outputs": [],
   "source": [
    "train_set, validation_set, _ = load_dataset(config['data']['path'])"
   ]
  },
  {
   "cell_type": "code",
   "execution_count": null,
   "id": "e98ad855",
   "metadata": {},
   "outputs": [],
   "source": [
    "for batch in validation_set:\n",
    "    break"
   ]
  },
  {
   "cell_type": "code",
   "execution_count": null,
   "id": "4dbbef20",
   "metadata": {},
   "outputs": [],
   "source": [
    "for k,v in batch.items():\n",
    "    print(k, v.shape)"
   ]
  },
  {
   "cell_type": "code",
   "execution_count": null,
   "id": "84afc460",
   "metadata": {},
   "outputs": [],
   "source": [
    "i = 5\n",
    "features = {k: v[i] for k,v in batch.items()}"
   ]
  },
  {
   "cell_type": "code",
   "execution_count": null,
   "id": "947d929a",
   "metadata": {},
   "outputs": [],
   "source": [
    "track = model.transfer_timbre(features)"
   ]
  },
  {
   "cell_type": "code",
   "execution_count": null,
   "id": "93a952cb",
   "metadata": {},
   "outputs": [],
   "source": [
    "print_plot_play(track)"
   ]
  },
  {
   "cell_type": "code",
   "execution_count": null,
   "id": "a6516948",
   "metadata": {},
   "outputs": [],
   "source": []
  }
 ],
 "metadata": {
  "kernelspec": {
   "display_name": "control-synth",
   "language": "python",
   "name": "control-synth"
  },
  "language_info": {
   "codemirror_mode": {
    "name": "ipython",
    "version": 3
   },
   "file_extension": ".py",
   "mimetype": "text/x-python",
   "name": "python",
   "nbconvert_exporter": "python",
   "pygments_lexer": "ipython3",
   "version": "3.7.10"
  }
 },
 "nbformat": 4,
 "nbformat_minor": 5
}
