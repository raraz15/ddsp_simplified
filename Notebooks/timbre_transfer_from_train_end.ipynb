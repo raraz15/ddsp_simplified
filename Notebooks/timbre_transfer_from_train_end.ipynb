{
 "cells": [
  {
   "cell_type": "code",
   "execution_count": null,
   "metadata": {},
   "outputs": [],
   "source": [
    "%load_ext autoreload\n",
    "%autoreload 2\n",
    "\n",
    "import os, sys\n",
    "import glob, pickle, yaml\n",
    "\n",
    "sys.path.append('/scratch/users/hbalim15/ddsp')\n",
    "\n",
    "import numpy as np\n",
    "import matplotlib.pyplot as plt\n",
    "\n",
    "from timbre_transfer import transfer_timbre_from_path\n",
    "from train_utils import make_supervised_model\n",
    "from utilities import write_audio\n",
    "\n",
    "def print_plot_play(x, Fs=16000, text='', normalize=False):\n",
    "    import IPython.display as ipd\n",
    "    print('%s\\n' % (text))\n",
    "    print('Fs = %d, x.shape = %s, x.dtype = %s' % (Fs, x.shape, x.dtype))\n",
    "    plt.figure(figsize=(8, 2))\n",
    "    plt.plot(x, color='gray')\n",
    "    plt.xlim([0, x.shape[0]])\n",
    "    plt.xlabel('Time (samples)')\n",
    "    plt.ylabel('Amplitude')\n",
    "    plt.tight_layout()\n",
    "    plt.show()\n",
    "    ipd.display(ipd.Audio(data=x, rate=Fs, normalize=normalize))"
   ]
  },
  {
   "cell_type": "code",
   "execution_count": null,
   "metadata": {},
   "outputs": [],
   "source": [
    "#c='run-20210822_095246-32rokydz/files/NoLatent_NoReverb/'\n",
    "c='run-20210822_095219-38ku2c1p/files/Latent_Reverb_ConfFiltered/'\n",
    "#c='run-20210822_095049-1sqspdnw/files/Latent_NoReverb_ConfFiltered/'\n",
    "#c='run-20210822_094958-3avesngz/files/Latent_Reverb_ConfFiltered/'\n",
    "#c='run-20210822_003344-5sugppkn/files/Latent_Reverb_Normalized/'\n",
    "#c='run-20210822_003339-3o8t9dd7/files/NoLatent_Reverb_Normalized/'\n",
    "#c='run-20210822_003335-24t5xahp/files/NoLatent_NoReverb_Normalized/'\n",
    "#c='run-20210822_003248-5nq7erxx/files/Latent_NoReverb_Normalized/'\n",
    "#c='run-20210822_003239-33yi4kib/files/NoLatent_NoReverb_Normalized/'\n",
    "#c='run-20210822_003139-105inrby/files/NoLatent_Reverb_ConfFiltered/'\n",
    "#c='run-20210822_003138-2ea9mh5u/files/NoLatent_NoReverb_ConfFiltered/'\n",
    "#c='run-20210822_003120-pcx9fmqx/files/Latent_Reverb/'\n",
    "#c='run-20210822_003116-jpv8up91/files/Latent_NoReverb/'\n",
    "\n",
    "config_path = os.path.join('..','wandb',c,'model.yaml')\n",
    "\n",
    "with open(config_path, 'r') as file:\n",
    "    config = dict(yaml.load(file, Loader=yaml.FullLoader))"
   ]
  },
  {
   "cell_type": "code",
   "execution_count": null,
   "metadata": {},
   "outputs": [],
   "source": [
    "run_dir = os.path.dirname(os.path.dirname(config['model']['path']))\n",
    "train_end_dir = os.path.join(run_dir, 'train_end')\n",
    "train_end_path = os.path.join(train_end_dir,'model.ckpt')\n",
    "with open(os.path.join(train_end_dir, 'model_info.txt'), 'r') as infile:\n",
    "    info = infile.read().split('\\n')\n",
    "print(info)"
   ]
  },
  {
   "cell_type": "code",
   "execution_count": null,
   "metadata": {},
   "outputs": [],
   "source": [
    "model = make_supervised_model(config)\n",
    "model.load_weights(train_end_path)"
   ]
  },
  {
   "cell_type": "code",
   "execution_count": null,
   "metadata": {},
   "outputs": [],
   "source": [
    "singing_path = '../audio_clips/singing.mp3'\n",
    "resynth = transfer_timbre_from_path(model,\n",
    "                                    singing_path,\n",
    "                                    mfcc=config['model']['encoder'],\n",
    "                                    pitch_shift=24,\n",
    "                                    normalize=config['data']['normalize'])\n",
    "print_plot_play(resynth)"
   ]
  },
  {
   "cell_type": "code",
   "execution_count": null,
   "metadata": {},
   "outputs": [],
   "source": [
    "print_plot_play(resynth)"
   ]
  }
 ],
 "metadata": {
  "kernelspec": {
   "display_name": "Python 3",
   "language": "python",
   "name": "python3"
  },
  "language_info": {
   "codemirror_mode": {
    "name": "ipython",
    "version": 3
   },
   "file_extension": ".py",
   "mimetype": "text/x-python",
   "name": "python",
   "nbconvert_exporter": "python",
   "pygments_lexer": "ipython3",
   "version": "3.6.9"
  }
 },
 "nbformat": 4,
 "nbformat_minor": 4
}
