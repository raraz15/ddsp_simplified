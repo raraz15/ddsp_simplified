{
 "cells": [
  {
   "cell_type": "code",
   "execution_count": null,
   "id": "b4d61ed0",
   "metadata": {
    "scrolled": true
   },
   "outputs": [],
   "source": [
    "import os\n",
    "import sys\n",
    "import yaml\n",
    "import argparse\n",
    "\n",
    "x = !pwd\n",
    "sys.path.append(os.path.dirname(x[0]))\n",
    "\n",
    "import numpy as np\n",
    "import matplotlib.pyplot as plt\n",
    "\n",
    "from feature_extraction import process_track\n",
    "from utilities import load_track, write_audio\n",
    "from train_utils import make_supervised_model\n",
    "\n",
    "from timbre_transfer import make_model_from_config\n",
    "from dataloader import load_dataset\n",
    "\n",
    "def print_plot_play(x, Fs=16000, text='', normalize=False):\n",
    "    import IPython.display as ipd\n",
    "    print('%s\\n' % (text))\n",
    "    print('Fs = %d, x.shape = %s, x.dtype = %s' % (Fs, x.shape, x.dtype))\n",
    "    plt.figure(figsize=(8, 2))\n",
    "    plt.plot(x, color='gray')\n",
    "    plt.xlim([0, x.shape[0]])\n",
    "    plt.xlabel('Time (samples)')\n",
    "    plt.ylabel('Amplitude')\n",
    "    plt.tight_layout()\n",
    "    plt.show()\n",
    "    ipd.display(ipd.Audio(data=x, rate=Fs, normalize=normalize))"
   ]
  },
  {
   "cell_type": "code",
   "execution_count": null,
   "id": "50a8efb3",
   "metadata": {},
   "outputs": [],
   "source": [
    "train_set, validation_set, _ = load_dataset(\"/home/ubuntu/ddsp_simplified/datasets/rochester_violin\", 8)"
   ]
  },
  {
   "cell_type": "code",
   "execution_count": null,
   "id": "f477be47",
   "metadata": {},
   "outputs": [],
   "source": [
    "for batch in train_set:\n",
    "    break\n",
    "    \n",
    "for k, v in batch.items():\n",
    "    print(k, v.shape,  type(v))"
   ]
  },
  {
   "cell_type": "code",
   "execution_count": null,
   "id": "b93d3aa2",
   "metadata": {},
   "outputs": [],
   "source": [
    "train_set, validation_set, _ = load_dataset(\"/home/ubuntu/ddsp_simplified/datasets/rochester_violin_ddsp_extracted\", 8) "
   ]
  },
  {
   "cell_type": "code",
   "execution_count": null,
   "id": "87ffaece",
   "metadata": {},
   "outputs": [],
   "source": [
    "for batch in train_set:\n",
    "    break\n",
    "    \n",
    "for k, v in batch.items():\n",
    "    print(k, v.shape, type(v))    "
   ]
  },
  {
   "cell_type": "code",
   "execution_count": null,
   "id": "dbbacdc4",
   "metadata": {},
   "outputs": [],
   "source": [
    "type(batch)"
   ]
  },
  {
   "cell_type": "code",
   "execution_count": null,
   "id": "4f32238a",
   "metadata": {},
   "outputs": [],
   "source": [
    "train_features0 = np.load(\"/home/ubuntu/ddsp_simplified/datasets/rochester_violin/train.npy\", allow_pickle=True).item()\n",
    "\n",
    "for k, v in train_features0.items():\n",
    "    print(k, v.shape, type(v)) "
   ]
  },
  {
   "cell_type": "code",
   "execution_count": null,
   "id": "6129b571",
   "metadata": {},
   "outputs": [],
   "source": [
    "train_features1 = np.load(\"/home/ubuntu/ddsp_simplified/datasets/rochester_violin_ddsp_extracted/train.npy\", allow_pickle=True).item()\n",
    "\n",
    "for k, v in train_features1.items():\n",
    "    print(k, v.shape, type(v)) "
   ]
  },
  {
   "cell_type": "code",
   "execution_count": null,
   "id": "7365fd1a",
   "metadata": {},
   "outputs": [],
   "source": [
    "train_features0['f0_hz']"
   ]
  },
  {
   "cell_type": "code",
   "execution_count": null,
   "id": "02441965",
   "metadata": {},
   "outputs": [],
   "source": [
    "train_features0['loudness_db']"
   ]
  },
  {
   "cell_type": "code",
   "execution_count": null,
   "id": "36c09db4",
   "metadata": {},
   "outputs": [],
   "source": [
    "train_features1['f0_hz']"
   ]
  },
  {
   "cell_type": "code",
   "execution_count": null,
   "id": "3d071bc2",
   "metadata": {},
   "outputs": [],
   "source": [
    "train_features1['loudness_db']"
   ]
  },
  {
   "cell_type": "code",
   "execution_count": null,
   "id": "617c4407",
   "metadata": {},
   "outputs": [],
   "source": [
    "from preprocessing import F0LoudnessPreprocessor"
   ]
  },
  {
   "cell_type": "code",
   "execution_count": null,
   "id": "77d12cfc",
   "metadata": {},
   "outputs": [],
   "source": [
    "preprocessor = F0LoudnessPreprocessor()"
   ]
  },
  {
   "cell_type": "code",
   "execution_count": null,
   "id": "342e346a",
   "metadata": {},
   "outputs": [],
   "source": [
    "processed_features = preprocessor(train_features0)\n",
    "train_features0.update(processed_features)"
   ]
  },
  {
   "cell_type": "code",
   "execution_count": null,
   "id": "a2a72a92",
   "metadata": {},
   "outputs": [],
   "source": [
    "for k,v in processed_features.items():\n",
    "    print(k, v.shape, type(v))\n",
    "print('\\n')    \n",
    "for k,v in train_features0.items():\n",
    "    print(k, v.shape, type(v))    "
   ]
  },
  {
   "cell_type": "code",
   "execution_count": null,
   "id": "ee6f1c55",
   "metadata": {},
   "outputs": [],
   "source": [
    "processed_features = preprocessor(train_features1)\n",
    "train_features1.update(processed_features)"
   ]
  },
  {
   "cell_type": "code",
   "execution_count": null,
   "id": "8c7819d9",
   "metadata": {},
   "outputs": [],
   "source": [
    "for k,v in processed_features.items():\n",
    "    print(k, v.shape, type(v))\n",
    "print('\\n')    \n",
    "for k,v in train_features1.items():\n",
    "    print(k, v.shape, type(v))    "
   ]
  },
  {
   "cell_type": "code",
   "execution_count": null,
   "id": "af6f26ea",
   "metadata": {},
   "outputs": [],
   "source": []
  }
 ],
 "metadata": {
  "kernelspec": {
   "display_name": "control-synth",
   "language": "python",
   "name": "control-synth"
  },
  "language_info": {
   "codemirror_mode": {
    "name": "ipython",
    "version": 3
   },
   "file_extension": ".py",
   "mimetype": "text/x-python",
   "name": "python",
   "nbconvert_exporter": "python",
   "pygments_lexer": "ipython3",
   "version": "3.7.10"
  }
 },
 "nbformat": 4,
 "nbformat_minor": 5
}
